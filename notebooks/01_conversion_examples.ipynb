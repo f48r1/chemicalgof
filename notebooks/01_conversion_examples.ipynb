{
 "cells": [
  {
   "cell_type": "code",
   "execution_count": null,
   "id": "2b1aff87",
   "metadata": {},
   "outputs": [],
   "source": [
    "%cd ..\n",
    "\n",
    "import networkx as nx\n",
    "from rdkit import Chem\n",
    "\n",
    "import pandas as pd\n",
    "import numpy as np\n",
    "\n",
    "from chemicalgof import (\n",
    "    Reduce2GoF,\n",
    "    fragSMILES2GoF,\n",
    "    Sequence2GoF,\n",
    "    GoF2Mol,\n",
    "    GoF2fragSMILES,\n",
    "    encode,\n",
    "    decode,\n",
    "    split\n",
    ")\n",
    "\n",
    "from chemicalgof.write import CanonicalGoF2fragSMILES"
   ]
  },
  {
   "cell_type": "markdown",
   "id": "8fbc61bf",
   "metadata": {},
   "source": [
    "# How can you reduce atom-based molecular graph into fragment-based molecular graph (DiG)"
   ]
  },
  {
   "cell_type": "code",
   "execution_count": null,
   "id": "d1c4a4d5",
   "metadata": {},
   "outputs": [],
   "source": [
    "smiles = 'Cc1cc2c(cc1Cc1ccc(C(=O)NC[C@H]3CC[C@H](C(N)=O)CC3)o1)C(C)(C)CCC2(C)C'\n",
    "mol = Chem.MolFromSmiles(smiles)"
   ]
  },
  {
   "cell_type": "code",
   "execution_count": null,
   "id": "210e6b2a",
   "metadata": {},
   "outputs": [],
   "source": [
    "mol"
   ]
  },
  {
   "cell_type": "code",
   "execution_count": null,
   "id": "d633eec8",
   "metadata": {},
   "outputs": [],
   "source": [
    "DiG = Reduce2GoF(smiles=smiles)\n",
    "DiG[DiG.GetFragsByIdx(7)]"
   ]
  },
  {
   "cell_type": "code",
   "execution_count": null,
   "id": "fae658e3",
   "metadata": {},
   "outputs": [],
   "source": [
    "DiG.get_edge_data(DiG.GetFragsByIdx(7), DiG.GetFragsByIdx(8))"
   ]
  },
  {
   "cell_type": "code",
   "execution_count": null,
   "id": "672e6e14",
   "metadata": {},
   "outputs": [],
   "source": [
    "# or\n",
    "DiG = Reduce2GoF(mol=mol) # Hint: be sure mol object derives from canonical smiles"
   ]
  },
  {
   "cell_type": "code",
   "execution_count": null,
   "id": "b1009910",
   "metadata": {},
   "outputs": [],
   "source": [
    "DiG.get_edge_data(DiG.GetFragsByIdx(7), DiG.GetFragsByIdx(8))"
   ]
  },
  {
   "cell_type": "markdown",
   "id": "54ce3d30",
   "metadata": {
    "vscode": {
     "languageId": "raw"
    }
   },
   "source": [
    "# Reduced graph (DiG) can be traversed and encoded into fragSMILES by different ways"
   ]
  },
  {
   "cell_type": "code",
   "execution_count": null,
   "id": "b87718cb",
   "metadata": {},
   "outputs": [],
   "source": [
    "smiles = 'COc1ccc2c(c1)c(CC(=O)O)c(C)n2C(=O)c3ccc(Cl)cc3'\n",
    "DiG = Reduce2GoF(smiles=smiles)"
   ]
  },
  {
   "cell_type": "code",
   "execution_count": null,
   "id": "9e781267",
   "metadata": {},
   "outputs": [],
   "source": [
    "fragsmiles = GoF2fragSMILES(DiG, canonize=True, random=False)\n",
    "fragsmiles2 = CanonicalGoF2fragSMILES(DiG)\n",
    "assert(fragsmiles == fragsmiles2)\n",
    "fragsmiles"
   ]
  },
  {
   "cell_type": "code",
   "execution_count": null,
   "id": "58ee4e48",
   "metadata": {},
   "outputs": [],
   "source": [
    "DiG.nodes"
   ]
  },
  {
   "cell_type": "code",
   "execution_count": null,
   "id": "3229bcd7",
   "metadata": {},
   "outputs": [],
   "source": [
    "ordered_fragsmiles = GoF2fragSMILES(DiG, canonize=False, random=False)\n",
    "print(ordered_fragsmiles)"
   ]
  },
  {
   "cell_type": "raw",
   "id": "1469d10c",
   "metadata": {
    "vscode": {
     "languageId": "raw"
    }
   },
   "source": [
    "fragSMILES derived by sorted sequence of node indexes is different by traversing graph in the canonical way.\n",
    "Indeed if you decode canonical fragSMILES into reduced graph,new indexes can be checked "
   ]
  },
  {
   "cell_type": "code",
   "execution_count": null,
   "id": "3ba8911e",
   "metadata": {},
   "outputs": [],
   "source": [
    "decoded_DiG = fragSMILES2GoF(fragsmiles)"
   ]
  },
  {
   "cell_type": "code",
   "execution_count": null,
   "id": "4bd33ffe",
   "metadata": {},
   "outputs": [],
   "source": [
    "decoded_DiG.nodes"
   ]
  },
  {
   "cell_type": "markdown",
   "id": "c167962c",
   "metadata": {},
   "source": [
    "# Reduced graph randomly traversed and augmentation"
   ]
  },
  {
   "cell_type": "code",
   "execution_count": null,
   "id": "eda38daf",
   "metadata": {},
   "outputs": [],
   "source": [
    "smiles = 'COc1ccc2c(c1)c(CC(=O)O)c(C)n2C(=O)c3ccc(Cl)cc3'\n",
    "DiG = Reduce2GoF(smiles=smiles)"
   ]
  },
  {
   "cell_type": "code",
   "execution_count": null,
   "id": "ea4fe355",
   "metadata": {},
   "outputs": [],
   "source": [
    "augmented = []\n",
    "augmentation = 5\n",
    "max_attempts = 20\n",
    "attempts = 0\n",
    "while attempts <= max_attempts and len(augmented) < augmentation:\n",
    "\tdecoded = GoF2fragSMILES(DiG, canonize=False, random=True)\n",
    "\tif decoded not in augmented:\n",
    "\t\taugmented.append(decoded)\n",
    "\t\tcontinue\n",
    "\tattempts +=1"
   ]
  },
  {
   "cell_type": "code",
   "execution_count": null,
   "id": "80e3d479",
   "metadata": {},
   "outputs": [],
   "source": [
    "augmented"
   ]
  }
 ],
 "metadata": {
  "kernelspec": {
   "display_name": ".venv",
   "language": "python",
   "name": "python3"
  },
  "language_info": {
   "codemirror_mode": {
    "name": "ipython",
    "version": 3
   },
   "file_extension": ".py",
   "mimetype": "text/x-python",
   "name": "python",
   "nbconvert_exporter": "python",
   "pygments_lexer": "ipython3",
   "version": "3.12.6"
  }
 },
 "nbformat": 4,
 "nbformat_minor": 5
}
