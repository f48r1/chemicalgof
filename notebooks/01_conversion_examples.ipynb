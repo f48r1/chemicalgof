{
 "cells": [
  {
   "cell_type": "code",
   "execution_count": null,
   "id": "2b1aff87",
   "metadata": {},
   "outputs": [],
   "source": [
    "from notebook_utils import cd_parent\n",
    "cd_parent()\n",
    "\n",
    "from rdkit import Chem\n",
    "\n",
    "from chemicalgof import (\n",
    "    Reduce2GoF,\n",
    "    fragSMILES2GoF,\n",
    "    Sequence2GoF,\n",
    "    GoF2Mol,\n",
    "    GoF2fragSMILES,\n",
    "    encode,\n",
    "    decode,\n",
    ")\n",
    "\n",
    "from chemicalgof.write import CanonicalGoF2fragSMILES"
   ]
  },
  {
   "cell_type": "markdown",
   "id": "8fbc61bf",
   "metadata": {},
   "source": [
    "# How can you reduce atom-based molecular graph into fragment-based molecular graph (DiG)"
   ]
  },
  {
   "cell_type": "code",
   "execution_count": 29,
   "id": "d1c4a4d5",
   "metadata": {},
   "outputs": [],
   "source": [
    "smiles = 'Cc1cc2c(cc1Cc1ccc(C(=O)NC[C@H]3CC[C@H](C(N)=O)CC3)o1)C(C)(C)CCC2(C)C'\n",
    "mol = Chem.MolFromSmiles(smiles)"
   ]
  },
  {
   "cell_type": "code",
   "execution_count": 30,
   "id": "210e6b2a",
   "metadata": {},
   "outputs": [
    {
     "data": {
      "image/png": "[encoded data removed]",
      "text/plain": [
       "<rdkit.Chem.rdchem.Mol at 0x7fb05e807990>"
      ]
     },
     "execution_count": 30,
     "metadata": {},
     "output_type": "execute_result"
    }
   ],
   "source": [
    "mol"
   ]
  },
  {
   "cell_type": "code",
   "execution_count": 31,
   "id": "d633eec8",
   "metadata": {},
   "outputs": [
    {
     "data": {
      "text/plain": [
       "AtlasView({C idx:6: {'aB': 0, 'stereo': 'r'}, C=O idx:8: {'aB': 3, 'stereo': 'r'}})"
      ]
     },
     "execution_count": 31,
     "metadata": {},
     "output_type": "execute_result"
    }
   ],
   "source": [
    "DiG = Reduce2GoF(smiles=smiles)\n",
    "DiG[DiG.GetFragsByIdx(7)]"
   ]
  },
  {
   "cell_type": "code",
   "execution_count": 32,
   "id": "fae658e3",
   "metadata": {},
   "outputs": [
    {
     "data": {
      "text/plain": [
       "{'aB': 3, 'stereo': 'r'}"
      ]
     },
     "execution_count": 32,
     "metadata": {},
     "output_type": "execute_result"
    }
   ],
   "source": [
    "DiG.get_edge_data(DiG.GetFragsByIdx(7), DiG.GetFragsByIdx(8))"
   ]
  },
  {
   "cell_type": "code",
   "execution_count": 33,
   "id": "672e6e14",
   "metadata": {},
   "outputs": [],
   "source": [
    "# or\n",
    "DiG = Reduce2GoF(mol=mol) # Hint: be sure mol object derives from canonical smiles"
   ]
  },
  {
   "cell_type": "code",
   "execution_count": 34,
   "id": "b1009910",
   "metadata": {},
   "outputs": [
    {
     "data": {
      "text/plain": [
       "{'aB': 3, 'stereo': 'r'}"
      ]
     },
     "execution_count": 34,
     "metadata": {},
     "output_type": "execute_result"
    }
   ],
   "source": [
    "DiG.get_edge_data(DiG.GetFragsByIdx(7), DiG.GetFragsByIdx(8))"
   ]
  },
  {
   "cell_type": "markdown",
   "id": "aa1a075f",
   "metadata": {},
   "source": [
    "> ⚠️ Example molecule involves pseudochirality (r and s chirality labels), see official [IUPAC notes](https://goldbook.iupac.org/terms/view/P04921).\\\n",
    "> For chemical language model task, chirality can be forced to capital letter"
   ]
  },
  {
   "cell_type": "code",
   "execution_count": 35,
   "id": "80d78d58",
   "metadata": {},
   "outputs": [
    {
     "data": {
      "text/plain": [
       "AtlasView({C idx:6: {'aB': 0, 'stereo': 'R'}, C=O idx:8: {'aB': 3, 'stereo': 'R'}})"
      ]
     },
     "execution_count": 35,
     "metadata": {},
     "output_type": "execute_result"
    }
   ],
   "source": [
    "DiG = Reduce2GoF(smiles=smiles, capitalize_legacy=True)\n",
    "DiG[DiG.GetFragsByIdx(7)]"
   ]
  },
  {
   "cell_type": "markdown",
   "id": "54ce3d30",
   "metadata": {
    "vscode": {
     "languageId": "raw"
    }
   },
   "source": [
    "# Reduced graph (DiG) can be traversed and encoded into fragSMILES by different ways"
   ]
  },
  {
   "cell_type": "code",
   "execution_count": 36,
   "id": "b87718cb",
   "metadata": {},
   "outputs": [],
   "source": [
    "smiles = 'COc1ccc2c(c1)c(CC(=O)O)c(C)n2C(=O)c3ccc(Cl)cc3'\n",
    "DiG = Reduce2GoF(smiles=smiles)"
   ]
  },
  {
   "cell_type": "markdown",
   "id": "c71041a5",
   "metadata": {},
   "source": [
    "Graph traversing by canonical way"
   ]
  },
  {
   "cell_type": "code",
   "execution_count": 37,
   "id": "9e781267",
   "metadata": {},
   "outputs": [
    {
     "data": {
      "text/plain": [
       "'O.C=O.C.<6>c1ccc2[nH]ccc2c1<4>.<0>(O.C.).<5>(C.).C=O.<0>c1ccccc1<3>.Cl'"
      ]
     },
     "execution_count": 37,
     "metadata": {},
     "output_type": "execute_result"
    }
   ],
   "source": [
    "fragsmiles = GoF2fragSMILES(DiG, canonize=True, random=False)\n",
    "fragsmiles2 = CanonicalGoF2fragSMILES(DiG)\n",
    "assert(fragsmiles == fragsmiles2)\n",
    "fragsmiles"
   ]
  },
  {
   "cell_type": "code",
   "execution_count": 38,
   "id": "58ee4e48",
   "metadata": {},
   "outputs": [
    {
     "data": {
      "text/plain": [
       "NodeView((C idx:0, O idx:1, c1ccc2[nH]ccc2c1 idx:2, C idx:3, C=O idx:4, O idx:5, C idx:6, C=O idx:7, c1ccccc1 idx:8, Cl idx:9))"
      ]
     },
     "execution_count": 38,
     "metadata": {},
     "output_type": "execute_result"
    }
   ],
   "source": [
    "DiG.nodes"
   ]
  },
  {
   "cell_type": "markdown",
   "id": "6b499e54",
   "metadata": {},
   "source": [
    "Function `encode` allows to encode SMILES to canonical fragSMILES by one step\n",
    "> ⚠️pseudo chirality is forced to be capitalized as default. See function documentation"
   ]
  },
  {
   "cell_type": "code",
   "execution_count": 39,
   "id": "9764bd8a",
   "metadata": {},
   "outputs": [],
   "source": [
    "fragsmiles3 = encode(smiles)\n",
    "assert(fragsmiles == fragsmiles3)"
   ]
  },
  {
   "cell_type": "markdown",
   "id": "c94ca0c0",
   "metadata": {},
   "source": [
    "Graph traversing by following node indexes"
   ]
  },
  {
   "cell_type": "code",
   "execution_count": 40,
   "id": "3229bcd7",
   "metadata": {},
   "outputs": [
    {
     "name": "stdout",
     "output_type": "stream",
     "text": [
      "C.O.<0>c1ccc2[nH]ccc2c1<6>.<4>(C=O.<0>c1ccccc1<3>.Cl.).<5>(C.).C.C=O.O\n"
     ]
    }
   ],
   "source": [
    "ordered_fragsmiles = GoF2fragSMILES(DiG, canonize=False, random=False)\n",
    "print(ordered_fragsmiles)"
   ]
  },
  {
   "cell_type": "raw",
   "id": "1469d10c",
   "metadata": {
    "vscode": {
     "languageId": "raw"
    }
   },
   "source": [
    "fragSMILES derived by sorted sequence of node indexes is different by traversing graph in the canonical way.\n",
    "Indeed if you decode canonical fragSMILES into reduced graph, new indexes can be checked"
   ]
  },
  {
   "cell_type": "code",
   "execution_count": 41,
   "id": "3ba8911e",
   "metadata": {},
   "outputs": [],
   "source": [
    "decoded_DiG = fragSMILES2GoF(fragsmiles)"
   ]
  },
  {
   "cell_type": "code",
   "execution_count": 42,
   "id": "4bd33ffe",
   "metadata": {},
   "outputs": [
    {
     "data": {
      "text/plain": [
       "NodeView((O idx:0, C=O idx:1, C idx:2, c1ccc2[nH]ccc2c1 idx:3, O idx:4, C idx:5, C idx:6, C=O idx:7, c1ccccc1 idx:8, Cl idx:9))"
      ]
     },
     "execution_count": 42,
     "metadata": {},
     "output_type": "execute_result"
    }
   ],
   "source": [
    "decoded_DiG.nodes"
   ]
  },
  {
   "cell_type": "markdown",
   "id": "c167962c",
   "metadata": {},
   "source": [
    "# Reduced graph randomly traversed and augmentation"
   ]
  },
  {
   "cell_type": "code",
   "execution_count": 43,
   "id": "eda38daf",
   "metadata": {},
   "outputs": [],
   "source": [
    "smiles = 'COc1ccc2c(c1)c(CC(=O)O)c(C)n2C(=O)c3ccc(Cl)cc3'\n",
    "DiG = Reduce2GoF(smiles=smiles)"
   ]
  },
  {
   "cell_type": "code",
   "execution_count": 44,
   "id": "ea4fe355",
   "metadata": {},
   "outputs": [],
   "source": [
    "augmented = []\n",
    "augmentation = 5\n",
    "max_attempts = 20\n",
    "attempts = 0\n",
    "while attempts <= max_attempts and len(augmented) < augmentation:\n",
    "\tdecoded = GoF2fragSMILES(DiG, canonize=False, random=True)\n",
    "\tif decoded not in augmented:\n",
    "\t\taugmented.append(decoded)\n",
    "\t\tcontinue\n",
    "\tattempts +=1"
   ]
  },
  {
   "cell_type": "code",
   "execution_count": 45,
   "id": "80e3d479",
   "metadata": {},
   "outputs": [
    {
     "data": {
      "text/plain": [
       "['C.<5>c1ccc2[nH]ccc2c1<0>.<6>(C.C=O.O.).<4>(C=O.<0>c1ccccc1<3>.Cl.).O.C',\n",
       " 'Cl.<3>c1ccccc1<0>.C=O.<4>c1ccc2[nH]ccc2c1<6>.<0>(O.C.).<5>(C.).C.C=O.O',\n",
       " 'C.<5>c1ccc2[nH]ccc2c1<4>.<6>(C.C=O.O.).<0>(O.C.).C=O.<0>c1ccccc1<3>.Cl',\n",
       " 'O.C=O.C.<6>c1ccc2[nH]ccc2c1<5>.<4>(C=O.<0>c1ccccc1<3>.Cl.).<0>(O.C.).C',\n",
       " 'C.O.<0>c1ccc2[nH]ccc2c1<6>.<4>(C=O.<0>c1ccccc1<3>.Cl.).<5>(C.).C.C=O.O']"
      ]
     },
     "execution_count": 45,
     "metadata": {},
     "output_type": "execute_result"
    }
   ],
   "source": [
    "augmented"
   ]
  },
  {
   "cell_type": "markdown",
   "id": "9b224a8b",
   "metadata": {},
   "source": [
    "# Decoding fragSMILES"
   ]
  },
  {
   "cell_type": "markdown",
   "id": "eaef1498",
   "metadata": {},
   "source": [
    "List `augmented` of previous section will be employed for decoding phase"
   ]
  },
  {
   "cell_type": "code",
   "execution_count": 46,
   "id": "b30d29c7",
   "metadata": {},
   "outputs": [],
   "source": [
    "decoded_smiles_list = []\n",
    "for encoded_fragsmiles in augmented:\n",
    "    decoded_diG = fragSMILES2GoF(encoded_fragsmiles)\n",
    "    decoded_mol = GoF2Mol(decoded_diG)\n",
    "    decoded_smiles = Chem.MolToSmiles(decoded_mol)\n",
    "    decoded_smiles_list.append(Chem.CanonSmiles(decoded_smiles))"
   ]
  },
  {
   "cell_type": "code",
   "execution_count": 47,
   "id": "15227401",
   "metadata": {},
   "outputs": [
    {
     "data": {
      "text/plain": [
       "{'COc1ccc2c(c1)c(CC(=O)O)c(C)n2C(=O)c1ccc(Cl)cc1'}"
      ]
     },
     "execution_count": 47,
     "metadata": {},
     "output_type": "execute_result"
    }
   ],
   "source": [
    "# converting into set to remove duplicates\n",
    "decoded_smiles_set = set(decoded_smiles_list)\n",
    "decoded_smiles_set"
   ]
  },
  {
   "cell_type": "markdown",
   "id": "77d5f48b",
   "metadata": {},
   "source": [
    "Function `decode` allows to decode fragSMILES into SMILES by one step"
   ]
  },
  {
   "cell_type": "code",
   "execution_count": 48,
   "id": "8055d986",
   "metadata": {},
   "outputs": [],
   "source": [
    "decoded_smiles_list = []\n",
    "for encoded_fragsmiles in augmented:\n",
    "    decoded_smiles = decode(encoded_fragsmiles)\n",
    "    decoded_smiles_list.append(Chem.CanonSmiles(decoded_smiles))"
   ]
  },
  {
   "cell_type": "code",
   "execution_count": 49,
   "id": "98c8a1f4",
   "metadata": {},
   "outputs": [
    {
     "data": {
      "text/plain": [
       "{'COc1ccc2c(c1)c(CC(=O)O)c(C)n2C(=O)c1ccc(Cl)cc1'}"
      ]
     },
     "execution_count": 49,
     "metadata": {},
     "output_type": "execute_result"
    }
   ],
   "source": [
    "# converting into set to remove duplicates\n",
    "decoded_smiles_set = set(decoded_smiles_list)\n",
    "decoded_smiles_set"
   ]
  }
 ],
 "metadata": {
  "kernelspec": {
   "display_name": ".venv",
   "language": "python",
   "name": "python3"
  },
  "language_info": {
   "codemirror_mode": {
    "name": "ipython",
    "version": 3
   },
   "file_extension": ".py",
   "mimetype": "text/x-python",
   "name": "python",
   "nbconvert_exporter": "python",
   "pygments_lexer": "ipython3",
   "version": "3.12.6"
  }
 },
 "nbformat": 4,
 "nbformat_minor": 5
}
