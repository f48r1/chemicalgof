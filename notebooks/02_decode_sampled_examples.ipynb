{
 "cells": [
  {
   "cell_type": "code",
   "execution_count": null,
   "id": "d73117f6",
   "metadata": {},
   "outputs": [
    {
     "name": "stdout",
     "output_type": "stream",
     "text": [
      "[INFO] Working directory set to: /home/tox/chemicalgof_repositories/chemicalgof_020\n"
     ]
    }
   ],
   "source": [
    "from notebook_utils import cd_parent\n",
    "cd_parent()\n",
    "\n",
    "from rdkit import Chem\n",
    "\n",
    "from chemicalgof import (\n",
    "    encode,\n",
    "    decode,\n",
    "    split\n",
    ")\n",
    "\n",
    "from chemicalgof.write import CanonicalGoF2fragSMILES"
   ]
  },
  {
   "cell_type": "markdown",
   "id": "b1bfd040",
   "metadata": {},
   "source": [
    "# Encoding fragSMILES for language models"
   ]
  },
  {
   "cell_type": "code",
   "execution_count": 2,
   "id": "31b0cd26",
   "metadata": {},
   "outputs": [],
   "source": [
    "smiles = 'Cc1cc2c(cc1Cc1ccc(C(=O)NC[C@H]3CC[C@H](C(N)=O)CC3)o1)C(C)(C)CCC2(C)C'"
   ]
  },
  {
   "cell_type": "markdown",
   "id": "987580a9",
   "metadata": {},
   "source": [
    "Despite molecule involes pseudo chirality (see notebook example 1), capitale chirali labels could be a benefit to train language models"
   ]
  },
  {
   "cell_type": "code",
   "execution_count": 7,
   "id": "6d894ac8",
   "metadata": {},
   "outputs": [
    {
     "data": {
      "text/plain": [
       "'C.<0>c1ccc2c(c1)CCCC2<1>.<9>(C.).<9>(C.).<6>(C.).<6>(C.).C.<4>c1ccoc1<2>.C=O.N.C.<0R>C1CCCCC1<3R>.C=O.N'"
      ]
     },
     "execution_count": 7,
     "metadata": {},
     "output_type": "execute_result"
    }
   ],
   "source": [
    "fragsmiles = encode(smiles, capitalize_chirality = True)\n",
    "fragsmiles"
   ]
  },
  {
   "cell_type": "markdown",
   "id": "b57eb7b9",
   "metadata": {},
   "source": [
    "`split` function allows to tokenize on fragment-level the fragsmiles representation into a sequence"
   ]
  },
  {
   "cell_type": "code",
   "execution_count": null,
   "id": "e38ab877",
   "metadata": {},
   "outputs": [
    {
     "data": {
      "text/plain": [
       "['C',\n",
       " '<0>',\n",
       " 'c1ccc2c(c1)CCCC2',\n",
       " '<1>',\n",
       " '<9>',\n",
       " '(',\n",
       " 'C',\n",
       " ')',\n",
       " '<9>',\n",
       " '(',\n",
       " 'C',\n",
       " ')',\n",
       " '<6>',\n",
       " '(',\n",
       " 'C',\n",
       " ')',\n",
       " '<6>',\n",
       " '(',\n",
       " 'C',\n",
       " ')',\n",
       " 'C',\n",
       " '<4>',\n",
       " 'c1ccoc1',\n",
       " '<2>',\n",
       " 'C=O',\n",
       " 'N',\n",
       " 'C',\n",
       " '<0R>',\n",
       " 'C1CCCCC1',\n",
       " '<3R>',\n",
       " 'C=O',\n",
       " 'N']"
      ]
     },
     "execution_count": 6,
     "metadata": {},
     "output_type": "execute_result"
    }
   ],
   "source": [
    "sequence = split(fragsmiles)\n",
    "sequence"
   ]
  },
  {
   "cell_type": "markdown",
   "id": "074dd735",
   "metadata": {},
   "source": [
    "Decoded sequence will convert fragSMLES into correct source SMILES (with pseudochirality)"
   ]
  },
  {
   "cell_type": "code",
   "execution_count": 9,
   "id": "1a7c7add",
   "metadata": {},
   "outputs": [],
   "source": [
    "decoded_smiles = Chem.CanonSmiles(decode(sequence))\n",
    "assert(decoded_smiles == smiles)"
   ]
  },
  {
   "cell_type": "markdown",
   "id": "105f60e7",
   "metadata": {},
   "source": [
    "# Decoding a sampled sequence by language model"
   ]
  },
  {
   "cell_type": "code",
   "execution_count": 2,
   "id": "fa2e8c79",
   "metadata": {},
   "outputs": [],
   "source": [
    "sampled = ['C', '<0>', 'c1c[nH]nn1', '<2>', 'C', '<3R>', 'C1CCCCC1', '<0S>', 'C|R', '(', 'C', ')', 'N', 'C=O', '<0>', 'C1CCCCC1', '<3>', '<3>', 'c1nc[nH]n1', '<0>', '<0>', 'c1ccccc1']"
   ]
  },
  {
   "cell_type": "code",
   "execution_count": 3,
   "id": "0a6887f5",
   "metadata": {},
   "outputs": [],
   "source": [
    "DiG = Sequence2GoF(sampled)"
   ]
  },
  {
   "cell_type": "markdown",
   "id": "caa9681d",
   "metadata": {},
   "source": [
    "- If strict_chirality=True, each chiral atom requires to have expected chirality label"
   ]
  },
  {
   "cell_type": "code",
   "execution_count": null,
   "id": "b4f0266c",
   "metadata": {},
   "outputs": [
    {
     "ename": "InvalidChirality",
     "evalue": "Chirality Error : Expected chirality label is not allowed.",
     "output_type": "error",
     "traceback": [
      "\u001b[0;31m---------------------------------------------------------------------------\u001b[0m",
      "\u001b[0;31mInvalidChirality\u001b[0m                          Traceback (most recent call last)",
      "Cell \u001b[0;32mIn[4], line 1\u001b[0m\n\u001b[0;32m----> 1\u001b[0m mol \u001b[38;5;241m=\u001b[39m \u001b[43mGoF2Mol\u001b[49m\u001b[43m(\u001b[49m\u001b[43mDiG\u001b[49m\u001b[43m)\u001b[49m\n",
      "File \u001b[0;32m~/chemicalgof_refactoring/chemicalgof/explode.py:169\u001b[0m, in \u001b[0;36mGoF2Mol\u001b[0;34m(DiG, strict_chirality)\u001b[0m\n\u001b[1;32m    165\u001b[0m assembler\u001b[38;5;241m.\u001b[39mupdate_chirality(check\u001b[38;5;241m=\u001b[39m\u001b[38;5;28;01mFalse\u001b[39;00m)\n\u001b[1;32m    167\u001b[0m assembler\u001b[38;5;241m.\u001b[39minvert_wrong_chirality(\u001b[38;5;124m'\u001b[39m\u001b[38;5;124mcapital\u001b[39m\u001b[38;5;124m'\u001b[39m)\n\u001b[0;32m--> 169\u001b[0m \u001b[43massembler\u001b[49m\u001b[38;5;241;43m.\u001b[39;49m\u001b[43minvert_wrong_chirality\u001b[49m\u001b[43m(\u001b[49m\u001b[38;5;124;43m'\u001b[39;49m\u001b[38;5;124;43mlower\u001b[39;49m\u001b[38;5;124;43m'\u001b[39;49m\u001b[43m)\u001b[49m\n\u001b[1;32m    171\u001b[0m assembler\u001b[38;5;241m.\u001b[39mupdate_chirality( check\u001b[38;5;241m=\u001b[39m\u001b[38;5;28;01mTrue\u001b[39;00m, cleanIt\u001b[38;5;241m=\u001b[39m\u001b[38;5;28;01mTrue\u001b[39;00m)\n\u001b[1;32m    173\u001b[0m \u001b[38;5;28;01mif\u001b[39;00m strict_chirality:\n",
      "File \u001b[0;32m~/chemicalgof_refactoring/chemicalgof/explode.py:138\u001b[0m, in \u001b[0;36mAssembler.invert_wrong_chirality\u001b[0;34m(self, _type)\u001b[0m\n\u001b[1;32m    136\u001b[0m \u001b[38;5;28;01mif\u001b[39;00m mask_capital_wrong\u001b[38;5;241m.\u001b[39msum () \u001b[38;5;241m>\u001b[39m \u001b[38;5;241m0\u001b[39m:\n\u001b[1;32m    137\u001b[0m     \u001b[38;5;28;01mif\u001b[39;00m \u001b[38;5;28mself\u001b[39m\u001b[38;5;241m.\u001b[39mstrict_chirality:\n\u001b[0;32m--> 138\u001b[0m         \u001b[38;5;28;01mraise\u001b[39;00m InvalidChirality()\n\u001b[1;32m    139\u001b[0m     atom\u001b[38;5;241m.\u001b[39mInvertChirality()\n\u001b[1;32m    140\u001b[0m     \u001b[38;5;28mself\u001b[39m\u001b[38;5;241m.\u001b[39mupdate_chirality()\n",
      "\u001b[0;31mInvalidChirality\u001b[0m: Chirality Error : Expected chirality label is not allowed."
     ]
    }
   ],
   "source": [
    "mol = GoF2Mol(DiG, strict_chirality=True)"
   ]
  },
  {
   "cell_type": "markdown",
   "id": "fceed7fc",
   "metadata": {},
   "source": [
    "- If strict_chirality=False, some chirality label can be ignored"
   ]
  },
  {
   "cell_type": "code",
   "execution_count": 5,
   "id": "79aa379a",
   "metadata": {},
   "outputs": [],
   "source": [
    "mol = GoF2Mol(DiG, strict_chirality=False)"
   ]
  },
  {
   "cell_type": "code",
   "execution_count": 6,
   "id": "d81a13a2",
   "metadata": {},
   "outputs": [
    {
     "data": {
      "image/png": "[encoded data removed]",
      "text/plain": [
       "<rdkit.Chem.rdchem.Mol at 0x7faf302c44a0>"
      ]
     },
     "execution_count": 6,
     "metadata": {},
     "output_type": "execute_result"
    }
   ],
   "source": [
    "mol"
   ]
  },
  {
   "cell_type": "code",
   "execution_count": 7,
   "id": "51c3c3e7",
   "metadata": {},
   "outputs": [],
   "source": [
    "smiles = Chem.MolToSmiles(mol)"
   ]
  },
  {
   "cell_type": "code",
   "execution_count": 9,
   "id": "7f5d6e8a",
   "metadata": {},
   "outputs": [
    {
     "data": {
      "text/plain": [
       "'Cc1cn(CC2CCC([C@@H](C)NC(=O)C3CCC(n4cnc(-c5ccccc5)n4)CC3)CC2)nn1'"
      ]
     },
     "execution_count": 9,
     "metadata": {},
     "output_type": "execute_result"
    }
   ],
   "source": [
    "Chem.CanonSmiles(smiles)"
   ]
  },
  {
   "cell_type": "markdown",
   "id": "1de7cd1c",
   "metadata": {},
   "source": [
    "# Special Case cause of RDKit dependency : Assignation of chirality can fail"
   ]
  },
  {
   "cell_type": "code",
   "execution_count": 10,
   "id": "56b9da9a",
   "metadata": {},
   "outputs": [],
   "source": [
    "sampled = ['C', '<12R>', 'O=C1NCCCc2cccc(c2)CCCOCc2cccc1c2', '<20R>', '<16>', '(', 'C', ')', '<11R>', '(', '<6>', 'c1ccc2c(c1)CCC21CCNCC1', ')', '<22S>', '(', 'O', ')', 'O', 'C']"
   ]
  },
  {
   "cell_type": "code",
   "execution_count": 11,
   "id": "1c232794",
   "metadata": {},
   "outputs": [],
   "source": [
    "DiG = Sequence2GoF(sampled)"
   ]
  },
  {
   "cell_type": "code",
   "execution_count": 12,
   "id": "4fd6278b",
   "metadata": {},
   "outputs": [],
   "source": [
    "mol = GoF2Mol(DiG, strict_chirality=True)"
   ]
  },
  {
   "cell_type": "code",
   "execution_count": 14,
   "id": "d95230ed",
   "metadata": {},
   "outputs": [],
   "source": [
    "smiles = Chem.MolToSmiles(mol)"
   ]
  },
  {
   "cell_type": "code",
   "execution_count": 15,
   "id": "2ebfb782",
   "metadata": {},
   "outputs": [
    {
     "data": {
      "text/plain": [
       "'CO[c@]1ccc2[c@](O)c1C(=O)NCCCc1cccc([c@]1C1CC3(CCNCC3)c3ccccc31)[C@H](C)CCOC2C'"
      ]
     },
     "execution_count": 15,
     "metadata": {},
     "output_type": "execute_result"
    }
   ],
   "source": [
    "smiles"
   ]
  },
  {
   "cell_type": "markdown",
   "id": "332b9063",
   "metadata": {},
   "source": [
    "aromatic atoms (and sometimes general sp2 carbon atoms) show wrong chirality"
   ]
  },
  {
   "cell_type": "code",
   "execution_count": 16,
   "id": "f9247d00",
   "metadata": {},
   "outputs": [],
   "source": [
    "canonical_smiles = Chem.CanonSmiles(smiles)"
   ]
  },
  {
   "cell_type": "code",
   "execution_count": 17,
   "id": "ea70a091",
   "metadata": {},
   "outputs": [
    {
     "data": {
      "text/plain": [
       "'COc1ccc2c(O)c1C(=O)NCCCc1cccc(c1C1CC3(CCNCC3)c3ccccc31)[C@H](C)CCOC2C'"
      ]
     },
     "execution_count": 17,
     "metadata": {},
     "output_type": "execute_result"
    }
   ],
   "source": [
    "canonical_smiles"
   ]
  },
  {
   "cell_type": "markdown",
   "id": "1ceae3ee",
   "metadata": {},
   "source": [
    "Correct chirality assegnation is given only after canonization. This is why last check should be done by canonizazion<br>\n",
    "Pre canonization count of chiral atoms != post canonizazion count"
   ]
  }
 ],
 "metadata": {
  "kernelspec": {
   "display_name": ".venv",
   "language": "python",
   "name": "python3"
  },
  "language_info": {
   "codemirror_mode": {
    "name": "ipython",
    "version": 3
   },
   "file_extension": ".py",
   "mimetype": "text/x-python",
   "name": "python",
   "nbconvert_exporter": "python",
   "pygments_lexer": "ipython3",
   "version": "3.12.6"
  }
 },
 "nbformat": 4,
 "nbformat_minor": 5
}
